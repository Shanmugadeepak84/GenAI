{
  "cells": [
    {
      "cell_type": "code",
      "execution_count": 24,
      "id": "1ALdqDzR5Sjf",
      "metadata": {
        "colab": {
          "base_uri": "https://localhost:8080/"
        },
        "id": "1ALdqDzR5Sjf",
        "outputId": "9b9a6318-0162-4cf5-a827-32feb45b201d"
      },
      "outputs": [
        {
          "output_type": "stream",
          "name": "stdout",
          "text": [
            "Drive already mounted at /content/drive; to attempt to forcibly remount, call drive.mount(\"/content/drive\", force_remount=True).\n"
          ]
        }
      ],
      "source": [
        "from google.colab import drive\n",
        "drive.mount('/content/drive')"
      ]
    },
    {
      "cell_type": "code",
      "source": [
        "data = [\n",
        "    {\"text\": \"I absolutely loved the new Batman movie!\", \"label\": \"positive\"},\n",
        "    {\"text\": \"This product is terrible and broke within days.\", \"label\": \"negative\"},\n",
        "    {\"text\": \"It was an okay experience, nothing special.\", \"label\": \"neutral\"},\n",
        "    {\"text\": \"The service was outstanding and the staff were friendly.\", \"label\": \"positive\"},\n",
        "    {\"text\": \"I wouldn't recommend this to anyone.\", \"label\": \"negative\"},\n",
        "    {\"text\": \"Not bad, but could have been better.\", \"label\": \"neutral\"},\n",
        "    {\"text\": \"I'm really happy with the results!\", \"label\": \"positive\"},\n",
        "    {\"text\": \"Completely disappointed. Waste of money.\", \"label\": \"negative\"},\n",
        "    {\"text\": \"It works just fine.\", \"label\": \"neutral\"},\n",
        "    {\"text\": \"The concert was mind-blowing!\", \"label\": \"positive\"},\n",
        "    {\"text\": \"Worst customer service ever.\", \"label\": \"negative\"},\n",
        "    {\"text\": \"It's acceptable, I guess.\", \"label\": \"neutral\"},\n",
        "    {\"text\": \"Loved the way the story unfolded!\", \"label\": \"positive\"},\n",
        "    {\"text\": \"It made me feel sick.\", \"label\": \"negative\"},\n",
        "    {\"text\": \"The interface is average.\", \"label\": \"neutral\"},\n",
        "    {\"text\": \"Fantastic design and intuitive UI!\", \"label\": \"positive\"},\n",
        "    {\"text\": \"This is the worst app I've ever used.\", \"label\": \"negative\"},\n",
        "    {\"text\": \"Does the job decently.\", \"label\": \"neutral\"},\n",
        "    {\"text\": \"Great value for the price!\", \"label\": \"positive\"},\n",
        "    {\"text\": \"Awful quality and too expensive.\", \"label\": \"negative\"},\n",
        "    {\"text\": \"I'm not sure how I feel about it.\", \"label\": \"neutral\"},\n",
        "    {\"text\": \"Absolutely amazing experience!\", \"label\": \"positive\"},\n",
        "    {\"text\": \"Regret buying this item.\", \"label\": \"negative\"},\n",
        "    {\"text\": \"It's neither good nor bad.\", \"label\": \"neutral\"},\n",
        "    {\"text\": \"Super helpful team and fast resolution.\", \"label\": \"positive\"},\n",
        "    {\"text\": \"Too many bugs and crashes.\", \"label\": \"negative\"},\n",
        "    {\"text\": \"It's okay for temporary use.\", \"label\": \"neutral\"},\n",
        "    {\"text\": \"They exceeded my expectations!\", \"label\": \"positive\"},\n",
        "    {\"text\": \"Very rude and unprofessional.\", \"label\": \"negative\"},\n",
        "    {\"text\": \"Mediocre performance.\", \"label\": \"neutral\"},\n",
        "    {\"text\": \"I’ll definitely come back again!\", \"label\": \"positive\"},\n",
        "    {\"text\": \"I'm never using this again.\", \"label\": \"negative\"},\n",
        "    {\"text\": \"Fairly standard quality.\", \"label\": \"neutral\"},\n",
        "    {\"text\": \"Top-notch service all the way.\", \"label\": \"positive\"},\n",
        "    {\"text\": \"Did not live up to the hype.\", \"label\": \"negative\"},\n",
        "    {\"text\": \"Kind of forgettable.\", \"label\": \"neutral\"},\n",
        "    {\"text\": \"Best purchase I made this year!\", \"label\": \"positive\"},\n",
        "    {\"text\": \"I want my money back.\", \"label\": \"negative\"},\n",
        "    {\"text\": \"Just average.\", \"label\": \"neutral\"},\n",
        "    {\"text\": \"Everything was perfect.\", \"label\": \"positive\"},\n",
        "    {\"text\": \"Total letdown.\", \"label\": \"negative\"},\n",
        "    {\"text\": \"Mixed feelings.\", \"label\": \"neutral\"},\n",
        "    {\"text\": \"Incredible quality and support!\", \"label\": \"positive\"},\n",
        "    {\"text\": \"So frustrating to use.\", \"label\": \"negative\"},\n",
        "    {\"text\": \"It's fine I suppose.\", \"label\": \"neutral\"},\n",
        "    {\"text\": \"Exceeded all my hopes.\", \"label\": \"positive\"},\n",
        "    {\"text\": \"Wouldn’t wish this on my worst enemy.\", \"label\": \"negative\"},\n",
        "    {\"text\": \"Neither impressed nor disappointed.\", \"label\": \"neutral\"},\n",
        "    {\"text\": \"Highly recommend it to everyone!\", \"label\": \"positive\"},\n",
        "    {\"text\": \"Fails to deliver on promises.\", \"label\": \"negative\"},\n",
        "    {\"text\": \"Serviceable, but not special.\", \"label\": \"neutral\"},\n",
        "    {\"text\": \"Wonderful experience from start to end!\", \"label\": \"positive\"},\n",
        "    {\"text\": \"Horrible service and rude employees.\", \"label\": \"negative\"},\n",
        "    {\"text\": \"Just your average experience.\", \"label\": \"neutral\"},\n",
        "    {\"text\": \"Perfectly executed event!\", \"label\": \"positive\"},\n",
        "    {\"text\": \"It didn’t work at all.\", \"label\": \"negative\"},\n",
        "    {\"text\": \"A neutral choice.\", \"label\": \"neutral\"},\n",
        "    {\"text\": \"Unbelievably good!\", \"label\": \"positive\"},\n",
        "    {\"text\": \"Defective and not as described.\", \"label\": \"negative\"},\n",
        "    {\"text\": \"I feel neutral about it.\", \"label\": \"neutral\"},\n",
        "    {\"text\": \"10/10 would use again.\", \"label\": \"positive\"},\n",
        "    {\"text\": \"Totally dissatisfied.\", \"label\": \"negative\"},\n",
        "    {\"text\": \"Can’t complain.\", \"label\": \"neutral\"},\n",
        "    {\"text\": \"Absolutely love it!\", \"label\": \"positive\"},\n",
        "    {\"text\": \"Extremely poor functionality.\", \"label\": \"negative\"},\n",
        "    {\"text\": \"Nothing out of the ordinary.\", \"label\": \"neutral\"},\n",
        "    {\"text\": \"Truly exceptional product.\", \"label\": \"positive\"},\n",
        "    {\"text\": \"Broke after one use.\", \"label\": \"negative\"},\n",
        "    {\"text\": \"A meh experience.\", \"label\": \"neutral\"},\n",
        "    {\"text\": \"Superb customer experience!\", \"label\": \"positive\"},\n",
        "    {\"text\": \"Product arrived damaged.\", \"label\": \"negative\"},\n",
        "    {\"text\": \"Reasonable quality.\", \"label\": \"neutral\"},\n",
        "    {\"text\": \"Loved every bit of it!\", \"label\": \"positive\"},\n",
        "    {\"text\": \"Wouldn’t buy again.\", \"label\": \"negative\"},\n",
        "    {\"text\": \"Just average quality.\", \"label\": \"neutral\"},\n",
        "    {\"text\": \"Delightful and efficient!\", \"label\": \"positive\"},\n",
        "    {\"text\": \"Completely useless.\", \"label\": \"negative\"},\n",
        "    {\"text\": \"It’s okay I guess.\", \"label\": \"neutral\"},\n",
        "    {\"text\": \"Highly satisfied with the product.\", \"label\": \"positive\"},\n",
        "    {\"text\": \"Terribly designed UI.\", \"label\": \"negative\"},\n",
        "    {\"text\": \"Basic and usable.\", \"label\": \"neutral\"},\n",
        "    {\"text\": \"Smooth and professional!\", \"label\": \"positive\"},\n",
        "    {\"text\": \"It crashed repeatedly.\", \"label\": \"negative\"},\n",
        "    {\"text\": \"Functional but uninspiring.\", \"label\": \"neutral\"},\n",
        "    {\"text\": \"Marvelous execution.\", \"label\": \"positive\"},\n",
        "    {\"text\": \"Pathetic experience.\", \"label\": \"negative\"},\n",
        "    {\"text\": \"So-so product.\", \"label\": \"neutral\"},\n",
        "    {\"text\": \"Blown away by how good it was!\", \"label\": \"positive\"},\n",
        "    {\"text\": \"Very dissatisfied and annoyed.\", \"label\": \"negative\"},\n",
        "    {\"text\": \"Meh. It’s fine.\", \"label\": \"neutral\"},\n",
        "    {\"text\": \"Would give it more stars if I could!\", \"label\": \"positive\"},\n",
        "    {\"text\": \"Terrible design flaws.\", \"label\": \"negative\"},\n",
        "    {\"text\": \"Somewhat helpful.\", \"label\": \"neutral\"},\n",
        "    {\"text\": \"Fantastic experience overall!\", \"label\": \"positive\"},\n",
        "    {\"text\": \"One of the worst things I’ve used.\", \"label\": \"negative\"},\n",
        "    {\"text\": \"Totally average in every way.\", \"label\": \"neutral\"},\n",
        "    {\"text\": \"Impressed by the quality!\", \"label\": \"positive\"},\n",
        "    {\"text\": \"Nothing worked as expected.\", \"label\": \"negative\"},\n",
        "    {\"text\": \"It's okay for now.\", \"label\": \"neutral\"},\n",
        "]\n",
        "\n"
      ],
      "metadata": {
        "id": "w7cWItC8C36O"
      },
      "id": "w7cWItC8C36O",
      "execution_count": 27,
      "outputs": []
    },
    {
      "cell_type": "markdown",
      "source": [
        "#Step1-Preprocess text data"
      ],
      "metadata": {
        "id": "G8TE2gSMS0WU"
      },
      "id": "G8TE2gSMS0WU"
    },
    {
      "cell_type": "code",
      "execution_count": 26,
      "id": "o6XYqjCrZe3p",
      "metadata": {
        "colab": {
          "base_uri": "https://localhost:8080/"
        },
        "id": "o6XYqjCrZe3p",
        "outputId": "2119cd5f-8b41-4d36-eeb0-ca4d243e3939"
      },
      "outputs": [
        {
          "output_type": "stream",
          "name": "stdout",
          "text": [
            "Requirement already satisfied: nltk in /usr/local/lib/python3.11/dist-packages (3.9.1)\n",
            "Requirement already satisfied: click in /usr/local/lib/python3.11/dist-packages (from nltk) (8.1.8)\n",
            "Requirement already satisfied: joblib in /usr/local/lib/python3.11/dist-packages (from nltk) (1.4.2)\n",
            "Requirement already satisfied: regex>=2021.8.3 in /usr/local/lib/python3.11/dist-packages (from nltk) (2024.11.6)\n",
            "Requirement already satisfied: tqdm in /usr/local/lib/python3.11/dist-packages (from nltk) (4.67.1)\n"
          ]
        }
      ],
      "source": [
        "!pip install nltk"
      ]
    },
    {
      "cell_type": "code",
      "execution_count": 28,
      "id": "a1e6d874-ea96-4a4d-9fb7-2ba31f3e2f22",
      "metadata": {
        "id": "a1e6d874-ea96-4a4d-9fb7-2ba31f3e2f22"
      },
      "outputs": [],
      "source": [
        "import nltk\n",
        "import spacy\n",
        "import pandas as pd\n",
        "from nltk.corpus import stopwords\n",
        "from nltk.tokenize import word_tokenize\n",
        "from nltk.stem import PorterStemmer, WordNetLemmatizer\n",
        "from sklearn.feature_extraction.text import TfidfVectorizer\n",
        "from sklearn.model_selection import train_test_split\n",
        "from sklearn.linear_model import LogisticRegression\n",
        "from sklearn.metrics import accuracy_score, classification_report, confusion_matrix\n",
        "import seaborn as sns\n",
        "import matplotlib.pyplot as plt\n"
      ]
    },
    {
      "cell_type": "code",
      "source": [
        "nltk.download('punkt')\n",
        "nltk.download('stopwords')\n",
        "nltk.download('wordnet')"
      ],
      "metadata": {
        "colab": {
          "base_uri": "https://localhost:8080/"
        },
        "id": "iUyr5OEWr1Kc",
        "outputId": "cc173a1e-e1cb-4541-a2a7-3cf0bd843252"
      },
      "id": "iUyr5OEWr1Kc",
      "execution_count": 29,
      "outputs": [
        {
          "output_type": "stream",
          "name": "stderr",
          "text": [
            "[nltk_data] Downloading package punkt to /root/nltk_data...\n",
            "[nltk_data]   Package punkt is already up-to-date!\n",
            "[nltk_data] Downloading package stopwords to /root/nltk_data...\n",
            "[nltk_data]   Package stopwords is already up-to-date!\n",
            "[nltk_data] Downloading package wordnet to /root/nltk_data...\n",
            "[nltk_data]   Package wordnet is already up-to-date!\n"
          ]
        },
        {
          "output_type": "execute_result",
          "data": {
            "text/plain": [
              "True"
            ]
          },
          "metadata": {},
          "execution_count": 29
        }
      ]
    },
    {
      "cell_type": "code",
      "source": [
        "# Initialize\n",
        "stop_words = set(stopwords.words(\"english\"))\n",
        "stemmer = PorterStemmer()\n",
        "lemmatizer = WordNetLemmatizer()"
      ],
      "metadata": {
        "id": "43g_OTPTsgJU"
      },
      "id": "43g_OTPTsgJU",
      "execution_count": 30,
      "outputs": []
    },
    {
      "cell_type": "code",
      "source": [
        "# Preprocessing\n",
        "def preprocess(text):\n",
        "    lemmatized = []\n",
        "    text = text.lower()\n",
        "  #  print(text)\n",
        "    tokens = word_tokenize(text)\n",
        "    #print(\"token=\",tokens)\n",
        "    for t in tokens:\n",
        "      if t.isalpha() and t not in stop_words:# keep only tokens that are alphabetic\n",
        "        tokens.remove(t)\n",
        "    #tokens = [t for t in tokens if t.isalpha() and t not in stop_words]\n",
        "    for t in tokens:\n",
        "      lemmatized.append(lemmatizer.lemmatize(t))\n",
        "    return \" \".join(lemmatized)\n"
      ],
      "metadata": {
        "id": "ArWEAQHishLE"
      },
      "id": "ArWEAQHishLE",
      "execution_count": 41,
      "outputs": []
    },
    {
      "cell_type": "code",
      "source": [
        "# Apply preprocessing\n",
        "texts = [preprocess(item[\"text\"]) for item in data]\n",
        "labels = [item[\"label\"] for item in data]"
      ],
      "metadata": {
        "id": "bb8pFx6RslWG"
      },
      "id": "bb8pFx6RslWG",
      "execution_count": 42,
      "outputs": []
    },
    {
      "cell_type": "code",
      "source": [
        "print(texts)\n",
        "print(labels)"
      ],
      "metadata": {
        "colab": {
          "base_uri": "https://localhost:8080/"
        },
        "id": "c8CAwNiHKczQ",
        "outputId": "d941f2b6-bddd-4681-92bb-6a27c3ece12d"
      },
      "id": "c8CAwNiHKczQ",
      "execution_count": 43,
      "outputs": [
        {
          "output_type": "stream",
          "name": "stdout",
          "text": [
            "['i loved the batman !', 'this is and within .', 'it wa an experience , special .', 'the wa and the were .', \"i n't this to .\", 'not , but have been .', \"i 'm happy with the !\", 'disappointed . of .', 'it just .', 'the wa mind-blowing !', 'customer ever .', \"it 's , i .\", 'the the unfolded !', 'it me sick .', 'the is .', 'design and ui !', \"this is the app i 've used .\", 'doe the decently .', 'value for the !', 'quality and too .', \"i 'm not how i about it .\", 'amazing !', 'buying this .', \"it 's good nor .\", 'helpful and resolution .', 'too bug and .', \"it 's for use .\", 'they my !', 'very and .', 'performance .', 'i ’ ll come again !', \"i 'm using this again .\", 'standard .', 'top-notch all the .', 'did not up to the .', 'of .', 'purchase i this !', 'i my back .', 'just .', 'wa .', 'letdown .', 'feeling .', 'quality and !', 'so to .', \"it 's i .\", 'all my .', 'wouldn ’ t this on my enemy .', 'impressed nor .', 'recommend it to !', 'to on .', ', but not .', 'experience from to !', 'service and employee .', 'just your experience .', 'executed !', 'it didn ’ t at all .', 'a choice .', 'good !', 'and not a .', 'i neutral about it .', '10/10 use again .', 'dissatisfied .', 'can ’ t .', 'love it !', 'poor .', 'out of the .', 'exceptional .', 'after use .', 'a experience .', 'customer !', 'arrived .', 'quality .', 'every of it !', 'wouldn ’ t again .', 'just quality .', 'and !', 'useless .', 'it ’ s i .', 'satisfied with the .', 'designed .', 'and .', 'and !', 'it repeatedly .', 'but .', 'execution .', 'experience .', 'so-so .', 'away by how it wa !', 'very and .', '. it ’ s .', 'give it more if i !', 'design .', 'helpful .', 'experience !', 'of the thing i ’ ve .', 'average in way .', 'by the !', 'worked a .', \"it 's for now .\"]\n",
            "['positive', 'negative', 'neutral', 'positive', 'negative', 'neutral', 'positive', 'negative', 'neutral', 'positive', 'negative', 'neutral', 'positive', 'negative', 'neutral', 'positive', 'negative', 'neutral', 'positive', 'negative', 'neutral', 'positive', 'negative', 'neutral', 'positive', 'negative', 'neutral', 'positive', 'negative', 'neutral', 'positive', 'negative', 'neutral', 'positive', 'negative', 'neutral', 'positive', 'negative', 'neutral', 'positive', 'negative', 'neutral', 'positive', 'negative', 'neutral', 'positive', 'negative', 'neutral', 'positive', 'negative', 'neutral', 'positive', 'negative', 'neutral', 'positive', 'negative', 'neutral', 'positive', 'negative', 'neutral', 'positive', 'negative', 'neutral', 'positive', 'negative', 'neutral', 'positive', 'negative', 'neutral', 'positive', 'negative', 'neutral', 'positive', 'negative', 'neutral', 'positive', 'negative', 'neutral', 'positive', 'negative', 'neutral', 'positive', 'negative', 'neutral', 'positive', 'negative', 'neutral', 'positive', 'negative', 'neutral', 'positive', 'negative', 'neutral', 'positive', 'negative', 'neutral', 'positive', 'negative', 'neutral']\n"
          ]
        }
      ]
    },
    {
      "cell_type": "code",
      "source": [
        "# Vectorization using TF-IDF\n",
        "tfidf_vectorizer = TfidfVectorizer()\n",
        "X = tfidf_vectorizer.fit_transform(texts)"
      ],
      "metadata": {
        "id": "UKwTI79AssHG"
      },
      "id": "UKwTI79AssHG",
      "execution_count": 44,
      "outputs": []
    },
    {
      "cell_type": "markdown",
      "source": [
        "#Step2:Build a text classification model using the preprocessed features."
      ],
      "metadata": {
        "id": "3Uu9YdPWTpWi"
      },
      "id": "3Uu9YdPWTpWi"
    },
    {
      "cell_type": "code",
      "source": [
        "# Train-test split\n",
        "X_train, X_test, y_train, y_test = train_test_split(X, labels, test_size=0.2, random_state=42)\n"
      ],
      "metadata": {
        "id": "Sq389t_MsxNP"
      },
      "id": "Sq389t_MsxNP",
      "execution_count": 45,
      "outputs": []
    },
    {
      "cell_type": "code",
      "source": [
        "# Classifier\n",
        "clf = LogisticRegression()\n",
        "clf.fit(X_train, y_train)\n",
        "y_pred = clf.predict(X_test)\n",
        "y_pred"
      ],
      "metadata": {
        "colab": {
          "base_uri": "https://localhost:8080/"
        },
        "id": "7IFLXF5Cszjn",
        "outputId": "8a91bf2f-7252-4971-b514-c832f56310fe"
      },
      "id": "7IFLXF5Cszjn",
      "execution_count": 46,
      "outputs": [
        {
          "output_type": "execute_result",
          "data": {
            "text/plain": [
              "array(['positive', 'positive', 'positive', 'positive', 'positive',\n",
              "       'positive', 'positive', 'neutral', 'positive', 'positive',\n",
              "       'positive', 'positive', 'neutral', 'neutral', 'neutral',\n",
              "       'negative', 'negative', 'positive', 'negative', 'positive'],\n",
              "      dtype='<U8')"
            ]
          },
          "metadata": {},
          "execution_count": 46
        }
      ]
    },
    {
      "cell_type": "code",
      "source": [
        "# Evaluation\n",
        "#Accuracy is a performance metric that tells you how many predictions your model got right, compared to the total number of predictions.\n",
        "#Accuracy= Total Samples/True Positives+True Negatives\n",
        "print(\"Accuracy:\", accuracy_score(y_test, y_pred))\n",
        "print(\"\\nClassification Report:\\n\", classification_report(y_test, y_pred))"
      ],
      "metadata": {
        "colab": {
          "base_uri": "https://localhost:8080/"
        },
        "id": "91qyZL2cs2Aw",
        "outputId": "b8b8474e-0089-4468-88f8-8a9491fc25cc"
      },
      "id": "91qyZL2cs2Aw",
      "execution_count": 49,
      "outputs": [
        {
          "output_type": "stream",
          "name": "stdout",
          "text": [
            "Accuracy: 0.5\n",
            "\n",
            "Classification Report:\n",
            "               precision    recall  f1-score   support\n",
            "\n",
            "    negative       1.00      0.30      0.46        10\n",
            "     neutral       0.75      0.60      0.67         5\n",
            "    positive       0.31      0.80      0.44         5\n",
            "\n",
            "    accuracy                           0.50        20\n",
            "   macro avg       0.69      0.57      0.52        20\n",
            "weighted avg       0.76      0.50      0.51        20\n",
            "\n"
          ]
        }
      ]
    },
    {
      "cell_type": "code",
      "source": [
        "# Confusion matrix-compares predicted and actual values to evaluate performance of the model\n",
        "conf_matrix = confusion_matrix(y_test, y_pred, labels=[\"positive\", \"negative\", \"neutral\"])\n",
        "sns.heatmap(conf_matrix, annot=True, fmt='d', cmap='Blues',\n",
        "            xticklabels=[\"positive\", \"negative\", \"neutral\"],\n",
        "            yticklabels=[\"positive\", \"negative\", \"neutral\"])\n",
        "plt.title(\"Confusion Matrix\")\n",
        "plt.xlabel(\"Predicted\")\n",
        "plt.ylabel(\"Actual\")\n",
        "plt.show()"
      ],
      "metadata": {
        "colab": {
          "base_uri": "https://localhost:8080/",
          "height": 472
        },
        "id": "eL75VuKntCxK",
        "outputId": "2894a8b8-e926-40d3-a055-5e8eee950f94"
      },
      "id": "eL75VuKntCxK",
      "execution_count": 48,
      "outputs": [
        {
          "output_type": "display_data",
          "data": {
            "text/plain": [
              "<Figure size 640x480 with 2 Axes>"
            ],
            "image/png": "[encoded data removed]"
          },
          "metadata": {}
        }
      ]
    },
    {
      "cell_type": "code",
      "source": [],
      "metadata": {
        "id": "Lq2mRqmms475"
      },
      "id": "Lq2mRqmms475",
      "execution_count": null,
      "outputs": []
    }
  ],
  "metadata": {
    "colab": {
      "provenance": []
    },
    "kernelspec": {
      "display_name": "Python 3 (ipykernel)",
      "language": "python",
      "name": "python3"
    },
    "language_info": {
      "codemirror_mode": {
        "name": "ipython",
        "version": 3
      },
      "file_extension": ".py",
      "mimetype": "text/x-python",
      "name": "python",
      "nbconvert_exporter": "python",
      "pygments_lexer": "ipython3",
      "version": "3.12.4"
    }
  },
  "nbformat": 4,
  "nbformat_minor": 5
}