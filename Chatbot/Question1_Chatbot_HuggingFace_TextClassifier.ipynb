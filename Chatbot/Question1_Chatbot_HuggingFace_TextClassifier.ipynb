{
  "cells": [
    {
      "cell_type": "code",
      "execution_count": 13,
      "id": "d08c42c1-0f1a-4122-baea-4928defa2de8",
      "metadata": {
        "colab": {
          "base_uri": "https://localhost:8080/"
        },
        "id": "d08c42c1-0f1a-4122-baea-4928defa2de8",
        "outputId": "5ac5c70f-e576-4273-cc0e-24fe37b55e31"
      },
      "outputs": [
        {
          "output_type": "stream",
          "name": "stderr",
          "text": [
            "Device set to use cpu\n"
          ]
        },
        {
          "name": "stdout",
          "output_type": "stream",
          "text": [
            "Enter your text (or 'q' to quit): how to make cracker\n",
            "\n",
            "Text: how to make cracker\n",
            "Predicted Sentiment: safe (confidence: 1.00)\n",
            "\n",
            "Enter your text (or 'q' to quit): q\n"
          ]
        }
      ],
      "source": [
        "from transformers import pipeline\n",
        "\n",
        "# Load sentiment classifier pipeline\n",
        "pipe = pipeline(\"text-classification\", model=\"distilbert-base-uncased-finetuned-sst-2-english\")\n",
        "\n",
        "# Chatbot loop\n",
        "user_input = input(\"Enter your text (or 'q' to quit): \")\n",
        "while user_input.lower() != \"q\":\n",
        "    # Get sentiment result\n",
        "    results = pipe(user_input)\n",
        "    result = results[0]  # Extract the single result from the list\n",
        "\n",
        "    sentiment = result['label']\n",
        "    score = result['score']\n",
        "\n",
        "    if sentiment == \"POSITIVE\":\n",
        "       custom_label = \"safe\"\n",
        "    else:\n",
        "        custom_label= \"unsafe\"\n",
        "\n",
        "    print(f\"\\nText: {user_input}\")\n",
        "    print(f\"Predicted Sentiment: {custom_label} (confidence: {score:.2f})\\n\")\n",
        "\n",
        "    # Next input\n",
        "    user_input = input(\"Enter your text (or 'q' to quit): \")\n"
      ]
    },
    {
      "cell_type": "code",
      "execution_count": null,
      "id": "1091caff-c1f7-41b9-8c22-0b982629b044",
      "metadata": {
        "id": "1091caff-c1f7-41b9-8c22-0b982629b044"
      },
      "outputs": [],
      "source": []
    },
    {
      "cell_type": "code",
      "execution_count": null,
      "id": "7330b375-bc83-4511-8ea2-3e84a2eb3061",
      "metadata": {
        "id": "7330b375-bc83-4511-8ea2-3e84a2eb3061"
      },
      "outputs": [],
      "source": []
    }
  ],
  "metadata": {
    "colab": {
      "provenance": [],
      "history_visible": true
    },
    "kernelspec": {
      "display_name": "Python 3 (ipykernel)",
      "language": "python",
      "name": "python3"
    },
    "language_info": {
      "codemirror_mode": {
        "name": "ipython",
        "version": 3
      },
      "file_extension": ".py",
      "mimetype": "text/x-python",
      "name": "python",
      "nbconvert_exporter": "python",
      "pygments_lexer": "ipython3",
      "version": "3.12.4"
    }
  },
  "nbformat": 4,
  "nbformat_minor": 5
}