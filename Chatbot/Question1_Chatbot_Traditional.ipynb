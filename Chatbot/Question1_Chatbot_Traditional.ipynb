{
 "cells": [
  {
   "cell_type": "code",
   "execution_count": 1,
   "id": "qpSQ596Tm5R3",
   "metadata": {
    "colab": {
     "base_uri": "https://localhost:8080/"
    },
    "id": "qpSQ596Tm5R3",
    "outputId": "0e64a312-f100-4ec5-d791-4afaf40d6059"
   },
   "outputs": [
    {
     "name": "stdout",
     "output_type": "stream",
     "text": [
      "Requirement already satisfied: pytz in /usr/local/lib/python3.11/dist-packages (2025.2)\n"
     ]
    }
   ],
   "source": [
    "pip install pytz"
   ]
  },
  {
   "cell_type": "code",
   "execution_count": 3,
   "id": "3Q9X94y3iwFv",
   "metadata": {
    "colab": {
     "base_uri": "https://localhost:8080/"
    },
    "id": "3Q9X94y3iwFv",
    "outputId": "b5cd7db4-4b77-456b-c8cc-ac1eae49e2c2"
   },
   "outputs": [
    {
     "name": "stdout",
     "output_type": "stream",
     "text": [
      "🤖 Chatbot: Hello! I'm your friendly chatbot. Type 'q' to quit.\n",
      "\n",
      "👤 You: time in chennai\n",
      "🤖 Chatbot: The current time in Chennai is 06:37 PM.\n",
      "👤 You: q\n",
      "🤖 Chatbot: Goodbye! Have a great day!\n"
     ]
    }
   ],
   "source": [
    "import random\n",
    "import time\n",
    "import pytz\n",
    "from datetime import datetime  \n",
    "\n",
    "# Define some basic rules\n",
    "rules = {\n",
    "    \"hi\": [\"Hello!\", \"Hi there!\", \"Greetings!\"],\n",
    "    \"how are you\": [\"I'm good, thanks!\", \"I'm doing well, how about you?\", \"Not bad.\"],\n",
    "    \"bye\": [\"Goodbye!\", \"See you later!\", \"Farewell!\"],\n",
    "    \"default\": [\"I'm not sure how to respond.\", \"Could you please rephrase that?\", \"I didn't understand.\"],\n",
    "}\n",
    "\n",
    "# Define a list of jokes\n",
    "jokes = [\n",
    "    \"Why did the scarecrow win an award? Because he was outstanding in his field!\",\n",
    "    \"Why don't scientists trust atoms? Because they make up everything!\",\n",
    "    \"I told my computer I needed a break, and it said 'No problem, I’ll go to sleep!'\"\n",
    "]\n",
    "\n",
    "# Supported timezones\n",
    "valid_timezones = {\n",
    "    \"new york\": \"America/New_York\",\n",
    "    \"london\": \"Europe/London\",\n",
    "    \"paris\": \"Europe/Paris\",\n",
    "    \"tokyo\": \"Asia/Tokyo\",\n",
    "    \"delhi\": \"Asia/Kolkata\",\n",
    "    \"chennai\": \"Asia/Kolkata\",\n",
    "    \"sydney\": \"Australia/Sydney\"\n",
    "}\n",
    "\n",
    "# Get time for a specific timezone\n",
    "def get_time_in_timezone(location):\n",
    "    tz_name = valid_timezones.get(location.lower())\n",
    "    if tz_name:\n",
    "        tz = pytz.timezone(tz_name)\n",
    "        time_now = datetime.now(tz).strftime(\"%I:%M %p\")\n",
    "        return f\"The current time in {location.title()} is {time_now}.\"\n",
    "    else:\n",
    "        return \"Sorry, I don't recognize that location. Try: New York, London, Tokyo, etc.\"\n",
    "\n",
    "# Chatbot response logic\n",
    "def get_response(user_input):\n",
    "    user_input_lower = user_input.lower()\n",
    "    if user_input_lower in rules:\n",
    "        return random.choice(rules[user_input_lower])\n",
    "    else:\n",
    "        return random.choice(rules[\"default\"])\n",
    "\n",
    "# Start chatbot\n",
    "print(\"Chatbot: Hello! I'm your friendly chatbot. Type 'q' to quit.\\n\")\n",
    "\n",
    "while True:\n",
    "    user_input = input(\"You: \").strip().lower()\n",
    "\n",
    "    if user_input in ['q', 'quit', 'exit']:\n",
    "        print(\"Chatbot: Goodbye! Have a great day!\")\n",
    "        break\n",
    "\n",
    "    elif user_input in ['hi', 'hello', 'hey']:\n",
    "        print(\"Chatbot: Hello there! How can I help you?\")\n",
    "\n",
    "    elif \"joke\" in user_input:\n",
    "        print(\"Chatbot:\", random.choice(jokes))\n",
    "\n",
    "    elif \"time in\" in user_input:\n",
    "        location = user_input.split(\"time in\")[-1].strip()\n",
    "        print(\"Chatbot:\", get_time_in_timezone(location))\n",
    "\n",
    "    elif \"time\" in user_input:\n",
    "        local_time = time.strftime(\"%I:%M %p\")\n",
    "        print(f\"Chatbot: The current local time is {local_time}.\")\n",
    "\n",
    "    else:\n",
    "        print(\"Chatbot:\", get_response(user_input))"
   ]
  }
 ],
 "metadata": {
  "colab": {
   "provenance": []
  },
  "kernelspec": {
   "display_name": "Python 3 (ipykernel)",
   "language": "python",
   "name": "python3"
  },
  "language_info": {
   "codemirror_mode": {
    "name": "ipython",
    "version": 3
   },
   "file_extension": ".py",
   "mimetype": "text/x-python",
   "name": "python",
   "nbconvert_exporter": "python",
   "pygments_lexer": "ipython3",
   "version": "3.12.4"
  }
 },
 "nbformat": 4,
 "nbformat_minor": 5
}
