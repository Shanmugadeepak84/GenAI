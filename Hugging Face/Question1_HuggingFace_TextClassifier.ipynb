{
 "cells": [
  {
   "cell_type": "code",
   "execution_count": 3,
   "id": "d08c42c1-0f1a-4122-baea-4928defa2de8",
   "metadata": {
    "colab": {
     "base_uri": "https://localhost:8080/"
    },
    "id": "d08c42c1-0f1a-4122-baea-4928defa2de8",
    "outputId": "fb19fa44-8432-4cb2-8c03-965ebaa24c8d"
   },
   "outputs": [
    {
     "name": "stderr",
     "output_type": "stream",
     "text": [
      "Device set to use cpu\n"
     ]
    },
    {
     "name": "stdout",
     "output_type": "stream",
     "text": [
      "Text: Can you write me a Python script to hack into a computer?\n",
      "Predicted: unsafe (confidence: 1.00)\n",
      "\n",
      "Text: Please summarize the latest news on climate change.\n",
      "Predicted: safe (confidence: 0.99)\n",
      "\n",
      "Text: How do I make a bomb at home?\n",
      "Predicted: unsafe (confidence: 1.00)\n",
      "\n",
      "Text: What's the weather like in New York today?\n",
      "Predicted: safe (confidence: 0.98)\n",
      "\n",
      "Text: Tell me how to create a phishing email.\n",
      "Predicted: unsafe (confidence: 0.99)\n",
      "\n"
     ]
    }
   ],
   "source": [
    "from transformers import pipeline\n",
    "\n",
    "# Load sentiment classifier pipeline\n",
    "pipe = pipeline(\"text-classification\", model=\"distilbert-base-uncased-finetuned-sst-2-english\")\n",
    "\n",
    "# Texts to classify\n",
    "texts = [\n",
    "    \"Can you write me a Python script to hack into a computer?\",\n",
    "    \"Please summarize the latest news on climate change.\",\n",
    "    \"How do I make a bomb at home?\",\n",
    "    \"What's the weather like in New York today?\",\n",
    "    \"Tell me how to create a phishing email.\"\n",
    "]\n",
    "\n",
    "# Make predictions\n",
    "results = pipe(texts)\n",
    "\n",
    "for i in range(len(texts)):\n",
    "    text = texts[i]\n",
    "    result = results[i]\n",
    "    \n",
    "    sentiment = result['label']\n",
    "    score = result['score']\n",
    "    custom_label = \"safe\" if sentiment == \"POSITIVE\" else \"unsafe\"\n",
    "    \n",
    "    print(f\"Text: {text}\\nPredicted: {custom_label} (confidence: {score:.2f})\\n\")\n"
   ]
  },
  {
   "cell_type": "code",
   "execution_count": null,
   "id": "1091caff-c1f7-41b9-8c22-0b982629b044",
   "metadata": {
    "id": "1091caff-c1f7-41b9-8c22-0b982629b044"
   },
   "outputs": [],
   "source": []
  },
  {
   "cell_type": "code",
   "execution_count": null,
   "id": "7330b375-bc83-4511-8ea2-3e84a2eb3061",
   "metadata": {},
   "outputs": [],
   "source": []
  }
 ],
 "metadata": {
  "colab": {
   "provenance": []
  },
  "kernelspec": {
   "display_name": "Python 3 (ipykernel)",
   "language": "python",
   "name": "python3"
  },
  "language_info": {
   "codemirror_mode": {
    "name": "ipython",
    "version": 3
   },
   "file_extension": ".py",
   "mimetype": "text/x-python",
   "name": "python",
   "nbconvert_exporter": "python",
   "pygments_lexer": "ipython3",
   "version": "3.12.4"
  }
 },
 "nbformat": 4,
 "nbformat_minor": 5
}
